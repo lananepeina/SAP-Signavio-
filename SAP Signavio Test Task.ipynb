{
 "cells": [
  {
   "cell_type": "markdown",
   "id": "a0841299",
   "metadata": {},
   "source": [
    "## SAP SIGNAVIO Test Assignment\n",
    "\n",
    "From the BPMN based process models, find the identifier, count, and relative amount (%) of process models with:\n",
    "- No start event\n",
    "- Several start events\n",
    "- With no end event\n",
    "- With several end events\n",
    "- With no start event, but with one or several tasks that can be considered to be the first activity in the process model"
   ]
  },
  {
   "cell_type": "code",
   "execution_count": 242,
   "id": "17b85e9e",
   "metadata": {},
   "outputs": [],
   "source": [
    "import matplotlib.pyplot as plt\n",
    "import matplotlib.ticker as mtick\n",
    "import pandas as pd\n",
    "import numpy as np\n",
    "import json\n",
    "import os\n",
    "import seaborn as sns\n",
    "\n",
    "os.chdir('D:/WORK germany/SAP Signavio/sap-sam-main/src') \n",
    "from sapsam import parser, constants"
   ]
  },
  {
   "cell_type": "markdown",
   "id": "11b32a96",
   "metadata": {},
   "source": [
    "First, the CSV files are imported and parsed. To parse and filter only the BPMN models, the method _parse_bpmn_model_elements_csv from BpmnModelParser class is used. It includes the namespace check for modeling notation."
   ]
  },
  {
   "cell_type": "code",
   "execution_count": 142,
   "id": "6676d386",
   "metadata": {},
   "outputs": [
    {
     "name": "stdout",
     "output_type": "stream",
     "text": [
      "1000000.csv\n",
      "1010000.csv\n",
      "1020000.csv\n",
      "880000.csv\n",
      "890000.csv\n",
      "900000.csv\n",
      "910000.csv\n",
      "920000.csv\n",
      "930000.csv\n",
      "940000.csv\n",
      "950000.csv\n",
      "960000.csv\n",
      "970000.csv\n",
      "980000.csv\n",
      "990000.csv\n"
     ]
    }
   ],
   "source": [
    "csv_paths = parser.get_csv_paths()\n",
    "df = pd.DataFrame()\n",
    "for csv_path in csv_paths:\n",
    "    print(csv_path.name)\n",
    "    p = parser.BpmnModelParser(parse_outgoing=True) \n",
    "    df_bpmn = p._parse_bpmn_model_elements_csv(csv_path)\n",
    "    df = pd.concat([df, df_bpmn])"
   ]
  },
  {
   "cell_type": "markdown",
   "id": "0d6da076",
   "metadata": {},
   "source": [
    "We group by model_id, that each line shows how many times each type of activity is represented in process model."
   ]
  },
  {
   "cell_type": "code",
   "execution_count": 155,
   "id": "45d5f445",
   "metadata": {},
   "outputs": [
    {
     "data": {
      "text/plain": [
       "Index(['Association_Bidirectional', 'Association_Undirected',\n",
       "       'Association_Unidirectional', 'ChoreographyParticipant',\n",
       "       'ChoreographyTask', 'CollapsedEventSubprocess', 'CollapsedPool',\n",
       "       'CollapsedSubprocess', 'CollapsedVerticalPool', 'Communication',\n",
       "       'ComplexGateway', 'ConversationLink', 'DataObject', 'DataStore',\n",
       "       'EndCancelEvent', 'EndCompensationEvent', 'EndErrorEvent',\n",
       "       'EndEscalationEvent', 'EndMessageEvent', 'EndMultipleEvent',\n",
       "       'EndNoneEvent', 'EndSignalEvent', 'EndTerminateEvent',\n",
       "       'EventSubprocess', 'EventbasedGateway', 'Exclusive_Databased_Gateway',\n",
       "       'Group', 'ITSystem', 'InclusiveGateway', 'IntermediateCancelEvent',\n",
       "       'IntermediateCompensationEventCatching',\n",
       "       'IntermediateCompensationEventThrowing', 'IntermediateConditionalEvent',\n",
       "       'IntermediateErrorEvent', 'IntermediateEscalationEvent',\n",
       "       'IntermediateEscalationEventThrowing', 'IntermediateEvent',\n",
       "       'IntermediateLinkEventCatching', 'IntermediateLinkEventThrowing',\n",
       "       'IntermediateMessageEventCatching', 'IntermediateMessageEventThrowing',\n",
       "       'IntermediateMultipleEventCatching',\n",
       "       'IntermediateMultipleEventThrowing',\n",
       "       'IntermediateParallelMultipleEventCatching',\n",
       "       'IntermediateSignalEventCatching', 'IntermediateSignalEventThrowing',\n",
       "       'IntermediateTimerEvent', 'Lane', 'Message', 'MessageFlow',\n",
       "       'ParallelGateway', 'Participant', 'Pool', 'SequenceFlow',\n",
       "       'StartCompensationEvent', 'StartConditionalEvent', 'StartErrorEvent',\n",
       "       'StartEscalationEvent', 'StartMessageEvent', 'StartMultipleEvent',\n",
       "       'StartNoneEvent', 'StartParallelMultipleEvent', 'StartSignalEvent',\n",
       "       'StartTimerEvent', 'Subprocess', 'Task', 'TextAnnotation',\n",
       "       'VerticalLane', 'VerticalPool', 'processparticipant'],\n",
       "      dtype='object', name='category')"
      ]
     },
     "execution_count": 155,
     "metadata": {},
     "output_type": "execute_result"
    }
   ],
   "source": [
    "# grouping by model_id\n",
    "df_cnts = (\n",
    "    df.groupby(\"model_id\").category\n",
    "    .value_counts()\n",
    "    .to_frame(\"count\")\n",
    "    .unstack()\n",
    "    .droplevel(0, axis='columns') # drop first level column level \"count\" that unstack produces\n",
    "    .fillna(0, downcast=\"infer\")\n",
    ")\n",
    "\n",
    "df_cnts"
   ]
  },
  {
   "cell_type": "markdown",
   "id": "bca003a4",
   "metadata": {},
   "source": [
    "# No start event\n",
    "To calculate how many models have no start event, we examine each model (i.e., each row in df_cnts) for the presence of any of the start event types in it. Since we have the number of each item in the process model, for no start event, each of the columns representing the start event must have a value of zero."
   ]
  },
  {
   "cell_type": "code",
   "execution_count": 224,
   "id": "48b4d0e5",
   "metadata": {},
   "outputs": [
    {
     "name": "stdout",
     "output_type": "stream",
     "text": [
      "Amount of models without the start event:  2339\n",
      "Relative anouunt of models without the start event:  3%\n",
      "List of model IDs without the start event:\n"
     ]
    },
    {
     "data": {
      "text/html": [
       "<div>\n",
       "<style scoped>\n",
       "    .dataframe tbody tr th:only-of-type {\n",
       "        vertical-align: middle;\n",
       "    }\n",
       "\n",
       "    .dataframe tbody tr th {\n",
       "        vertical-align: top;\n",
       "    }\n",
       "\n",
       "    .dataframe thead th {\n",
       "        text-align: right;\n",
       "    }\n",
       "</style>\n",
       "<table border=\"1\" class=\"dataframe\">\n",
       "  <thead>\n",
       "    <tr style=\"text-align: right;\">\n",
       "      <th></th>\n",
       "      <th>model_id</th>\n",
       "    </tr>\n",
       "  </thead>\n",
       "  <tbody>\n",
       "    <tr>\n",
       "      <th>0</th>\n",
       "      <td>0a27136a84fa486a8f37dc6032273809</td>\n",
       "    </tr>\n",
       "    <tr>\n",
       "      <th>1</th>\n",
       "      <td>0a285138d5ce4006b891b7ab7babc31d</td>\n",
       "    </tr>\n",
       "    <tr>\n",
       "      <th>2</th>\n",
       "      <td>0a2acac596934f16bb949b45953401cd</td>\n",
       "    </tr>\n",
       "    <tr>\n",
       "      <th>3</th>\n",
       "      <td>0a2ce9e4ae6045d995a2d0fa32bb942d</td>\n",
       "    </tr>\n",
       "    <tr>\n",
       "      <th>4</th>\n",
       "      <td>0a3459e81fcb47afa0b70cf5b12b53df</td>\n",
       "    </tr>\n",
       "    <tr>\n",
       "      <th>...</th>\n",
       "      <td>...</td>\n",
       "    </tr>\n",
       "    <tr>\n",
       "      <th>2334</th>\n",
       "      <td>ff905a778d5c4ce2baba0af08f5d9805</td>\n",
       "    </tr>\n",
       "    <tr>\n",
       "      <th>2335</th>\n",
       "      <td>ff98a2ca48f44daab2bf8f840137803c</td>\n",
       "    </tr>\n",
       "    <tr>\n",
       "      <th>2336</th>\n",
       "      <td>ff9fd2f53c2b4a2ba0f0f51114c51f93</td>\n",
       "    </tr>\n",
       "    <tr>\n",
       "      <th>2337</th>\n",
       "      <td>ffa2cafedc7044d28264dd9a877a9da8</td>\n",
       "    </tr>\n",
       "    <tr>\n",
       "      <th>2338</th>\n",
       "      <td>ffa5b1f85d754c59a5b8395094bb8b51</td>\n",
       "    </tr>\n",
       "  </tbody>\n",
       "</table>\n",
       "<p>2339 rows × 1 columns</p>\n",
       "</div>"
      ],
      "text/plain": [
       "                              model_id\n",
       "0     0a27136a84fa486a8f37dc6032273809\n",
       "1     0a285138d5ce4006b891b7ab7babc31d\n",
       "2     0a2acac596934f16bb949b45953401cd\n",
       "3     0a2ce9e4ae6045d995a2d0fa32bb942d\n",
       "4     0a3459e81fcb47afa0b70cf5b12b53df\n",
       "...                                ...\n",
       "2334  ff905a778d5c4ce2baba0af08f5d9805\n",
       "2335  ff98a2ca48f44daab2bf8f840137803c\n",
       "2336  ff9fd2f53c2b4a2ba0f0f51114c51f93\n",
       "2337  ffa2cafedc7044d28264dd9a877a9da8\n",
       "2338  ffa5b1f85d754c59a5b8395094bb8b51\n",
       "\n",
       "[2339 rows x 1 columns]"
      ]
     },
     "metadata": {},
     "output_type": "display_data"
    }
   ],
   "source": [
    "# calculate the sum of the events for each row\n",
    "event_cols = ['StartCompensationEvent', 'StartConditionalEvent', 'StartErrorEvent', 'StartEscalationEvent', 'StartMessageEvent', 'StartMultipleEvent', 'StartNoneEvent', 'StartParallelMultipleEvent', 'StartSignalEvent', 'StartTimerEvent']\n",
    "event_sum = df_cnts[event_cols].sum(axis=1)\n",
    "\n",
    "# create a boolean mask to filter the rows where the sum of events is greater than 1\n",
    "mask_noStart = event_sum == 0\n",
    "\n",
    "# count the number of rows that meet the mask condition i.e have no start event \n",
    "count = mask_noStart.sum()\n",
    "noStart = df_cnts[mask_noStart]\n",
    "\n",
    "# relative amount of models with no start event \n",
    "pct_noStart = round(noStart.shape[0] / df_cnts.shape[0], 2)\n",
    "noStart = noStart.reset_index()\n",
    "print(\"Amount of models without the start event: \", count)\n",
    "print(\"Relative anouunt of models without the start event: \", \"{:.0%}\".format(pct_noStart))\n",
    "print(\"List of model IDs without the start event:\")\n",
    "display(pd.DataFrame(noStart[\"model_id\"]))\n",
    "\n"
   ]
  },
  {
   "cell_type": "markdown",
   "id": "089604d1",
   "metadata": {},
   "source": [
    "# Several start events\n",
    "\n",
    "To calculate how many models have several start events, we examine each model (i.e., each row in df_cnts) for the presence of any of the start event types in it. Since we have the number of each item in the process model, for several start events, at least two of the columns representing the start event must have a value more than 0."
   ]
  },
  {
   "cell_type": "code",
   "execution_count": 227,
   "id": "52fd9ab2",
   "metadata": {},
   "outputs": [
    {
     "name": "stdout",
     "output_type": "stream",
     "text": [
      "Amount of models with multiple start events:  13754\n",
      "Relative amount of modelswith multiple start events:  16%\n",
      "List of model IDs with multiple start events:\n"
     ]
    },
    {
     "data": {
      "text/html": [
       "<div>\n",
       "<style scoped>\n",
       "    .dataframe tbody tr th:only-of-type {\n",
       "        vertical-align: middle;\n",
       "    }\n",
       "\n",
       "    .dataframe tbody tr th {\n",
       "        vertical-align: top;\n",
       "    }\n",
       "\n",
       "    .dataframe thead th {\n",
       "        text-align: right;\n",
       "    }\n",
       "</style>\n",
       "<table border=\"1\" class=\"dataframe\">\n",
       "  <thead>\n",
       "    <tr style=\"text-align: right;\">\n",
       "      <th></th>\n",
       "      <th>model_id</th>\n",
       "    </tr>\n",
       "  </thead>\n",
       "  <tbody>\n",
       "    <tr>\n",
       "      <th>0</th>\n",
       "      <td>0a2033822ffa4f6da9bf075f115b387c</td>\n",
       "    </tr>\n",
       "    <tr>\n",
       "      <th>1</th>\n",
       "      <td>0a211d3d472c4d32ab1c533c792a209a</td>\n",
       "    </tr>\n",
       "    <tr>\n",
       "      <th>2</th>\n",
       "      <td>0a22137326cc478bae323f65e14a2f0b</td>\n",
       "    </tr>\n",
       "    <tr>\n",
       "      <th>3</th>\n",
       "      <td>0a221956fa184b0193b2a5a9bfa2bf96</td>\n",
       "    </tr>\n",
       "    <tr>\n",
       "      <th>4</th>\n",
       "      <td>0a22672438e74a42a3b796246641ceb8</td>\n",
       "    </tr>\n",
       "    <tr>\n",
       "      <th>...</th>\n",
       "      <td>...</td>\n",
       "    </tr>\n",
       "    <tr>\n",
       "      <th>13749</th>\n",
       "      <td>ffa2316d5dd643bbb938507c0ffb7ef2</td>\n",
       "    </tr>\n",
       "    <tr>\n",
       "      <th>13750</th>\n",
       "      <td>ffa31aaf5b8b4a26815d9165864ad4ce</td>\n",
       "    </tr>\n",
       "    <tr>\n",
       "      <th>13751</th>\n",
       "      <td>ffa4d79868fb417c9de075ff5f34c45c</td>\n",
       "    </tr>\n",
       "    <tr>\n",
       "      <th>13752</th>\n",
       "      <td>ffa569f31b0546fc9cfc19b2a0b0a203</td>\n",
       "    </tr>\n",
       "    <tr>\n",
       "      <th>13753</th>\n",
       "      <td>ffa61f0344d147d9b73320d33ea1396f</td>\n",
       "    </tr>\n",
       "  </tbody>\n",
       "</table>\n",
       "<p>13754 rows × 1 columns</p>\n",
       "</div>"
      ],
      "text/plain": [
       "                               model_id\n",
       "0      0a2033822ffa4f6da9bf075f115b387c\n",
       "1      0a211d3d472c4d32ab1c533c792a209a\n",
       "2      0a22137326cc478bae323f65e14a2f0b\n",
       "3      0a221956fa184b0193b2a5a9bfa2bf96\n",
       "4      0a22672438e74a42a3b796246641ceb8\n",
       "...                                 ...\n",
       "13749  ffa2316d5dd643bbb938507c0ffb7ef2\n",
       "13750  ffa31aaf5b8b4a26815d9165864ad4ce\n",
       "13751  ffa4d79868fb417c9de075ff5f34c45c\n",
       "13752  ffa569f31b0546fc9cfc19b2a0b0a203\n",
       "13753  ffa61f0344d147d9b73320d33ea1396f\n",
       "\n",
       "[13754 rows x 1 columns]"
      ]
     },
     "metadata": {},
     "output_type": "display_data"
    }
   ],
   "source": [
    "mask_startMulti = event_sum > 1\n",
    "\n",
    "# count the number of rows that meet the mask condition\n",
    "count_startMulti = mask_startMulti.sum()\n",
    "multiStart = df_cnts[mask_startMulti]\n",
    "pct_startMulti = round(multiStart.shape[0] / df_cnts.shape[0], 2)\n",
    "print(\"Amount of models with multiple start events: \", count_startMulti)\n",
    "print(\"Relative amount of modelswith multiple start events: \",\"{:.0%}\".format(pct_startMulti))\n",
    "print(\"List of model IDs with multiple start events:\")\n",
    "multiStart = multiStart.reset_index()\n",
    "display(pd.DataFrame(multiStart[\"model_id\"]))\n",
    "\n"
   ]
  },
  {
   "cell_type": "markdown",
   "id": "1342616e",
   "metadata": {},
   "source": [
    "# No end event\n",
    "To calculate how many models have no end event, we examine each model (i.e., each row in df_cnts) for the presence of any of the end event types in it. Since we have the number of each activity in the process model, for no end event, each of the columns representing the end event must have a value of zero."
   ]
  },
  {
   "cell_type": "code",
   "execution_count": 228,
   "id": "6a7ebba1",
   "metadata": {},
   "outputs": [
    {
     "name": "stdout",
     "output_type": "stream",
     "text": [
      "Amount of models without the end event:  3890\n",
      "Relative anouunt of models without the end event:  5%\n",
      "List of model IDs without the end event:\n"
     ]
    },
    {
     "data": {
      "text/html": [
       "<div>\n",
       "<style scoped>\n",
       "    .dataframe tbody tr th:only-of-type {\n",
       "        vertical-align: middle;\n",
       "    }\n",
       "\n",
       "    .dataframe tbody tr th {\n",
       "        vertical-align: top;\n",
       "    }\n",
       "\n",
       "    .dataframe thead th {\n",
       "        text-align: right;\n",
       "    }\n",
       "</style>\n",
       "<table border=\"1\" class=\"dataframe\">\n",
       "  <thead>\n",
       "    <tr style=\"text-align: right;\">\n",
       "      <th></th>\n",
       "      <th>model_id</th>\n",
       "    </tr>\n",
       "  </thead>\n",
       "  <tbody>\n",
       "    <tr>\n",
       "      <th>0</th>\n",
       "      <td>0a1ef88d340b4d6d9d5faec06083ca60</td>\n",
       "    </tr>\n",
       "    <tr>\n",
       "      <th>1</th>\n",
       "      <td>0a1f112af2a7492daffec5bb0e96be40</td>\n",
       "    </tr>\n",
       "    <tr>\n",
       "      <th>2</th>\n",
       "      <td>0a1f6515f7cb4da98ff9534b5340bb7e</td>\n",
       "    </tr>\n",
       "    <tr>\n",
       "      <th>3</th>\n",
       "      <td>0a230773d7a0420bbac6dc1071f94ddb</td>\n",
       "    </tr>\n",
       "    <tr>\n",
       "      <th>4</th>\n",
       "      <td>0a24f1b8738f4ec38ad05fc8a6b67a80</td>\n",
       "    </tr>\n",
       "    <tr>\n",
       "      <th>...</th>\n",
       "      <td>...</td>\n",
       "    </tr>\n",
       "    <tr>\n",
       "      <th>3885</th>\n",
       "      <td>ff972c2c9db84881b46f094d822abc15</td>\n",
       "    </tr>\n",
       "    <tr>\n",
       "      <th>3886</th>\n",
       "      <td>ff98a2ca48f44daab2bf8f840137803c</td>\n",
       "    </tr>\n",
       "    <tr>\n",
       "      <th>3887</th>\n",
       "      <td>ff9fc4b385b8497a96e8b811fb487098</td>\n",
       "    </tr>\n",
       "    <tr>\n",
       "      <th>3888</th>\n",
       "      <td>ff9fd2f53c2b4a2ba0f0f51114c51f93</td>\n",
       "    </tr>\n",
       "    <tr>\n",
       "      <th>3889</th>\n",
       "      <td>ffa4737e9747411f92b8a1af73afa979</td>\n",
       "    </tr>\n",
       "  </tbody>\n",
       "</table>\n",
       "<p>3890 rows × 1 columns</p>\n",
       "</div>"
      ],
      "text/plain": [
       "                              model_id\n",
       "0     0a1ef88d340b4d6d9d5faec06083ca60\n",
       "1     0a1f112af2a7492daffec5bb0e96be40\n",
       "2     0a1f6515f7cb4da98ff9534b5340bb7e\n",
       "3     0a230773d7a0420bbac6dc1071f94ddb\n",
       "4     0a24f1b8738f4ec38ad05fc8a6b67a80\n",
       "...                                ...\n",
       "3885  ff972c2c9db84881b46f094d822abc15\n",
       "3886  ff98a2ca48f44daab2bf8f840137803c\n",
       "3887  ff9fc4b385b8497a96e8b811fb487098\n",
       "3888  ff9fd2f53c2b4a2ba0f0f51114c51f93\n",
       "3889  ffa4737e9747411f92b8a1af73afa979\n",
       "\n",
       "[3890 rows x 1 columns]"
      ]
     },
     "metadata": {},
     "output_type": "display_data"
    }
   ],
   "source": [
    "#Names of the colomns, which represent end events \n",
    "end_event_cols = ['EndCancelEvent', 'EndCompensationEvent', 'EndErrorEvent', 'EndEscalationEvent', 'EndMessageEvent', 'EndMultipleEvent', 'EndNoneEvent', 'EndSignalEvent', 'EndTerminateEvent']\n",
    "# calculate the sum of the end events for each row\n",
    "event_sum_end = df_cnts[end_event_cols].sum(axis=1)\n",
    "\n",
    "# create a boolean mask to filter the rows where the sum of events is greater than 1\n",
    "mask_noEnd = event_sum_end == 0\n",
    "\n",
    "# count the number of rows that meet the mask condition e.g. multiple start events\n",
    "count_noEnd = mask_noEnd.sum()\n",
    "noEnd = df_cnts[mask_noEnd]\n",
    "#count the relative amount of the models with no end event\n",
    "pct_noEnd = round(noEnd.shape[0] / df_cnts.shape[0], 2)\n",
    "\n",
    "print(\"Amount of models without the end event: \",(count_noEnd))\n",
    "print(\"Relative anouunt of models without the end event: \",\"{:.0%}\".format(pct_noEnd))\n",
    "print(\"List of model IDs without the end event:\")\n",
    "noEnd = noEnd.reset_index()\n",
    "display(pd.DataFrame(noEnd[\"model_id\"]))\n"
   ]
  },
  {
   "cell_type": "markdown",
   "id": "f72c9abf",
   "metadata": {},
   "source": [
    "# Several end event\n",
    "To calculate how many models have no end event, we examine each model (i.e., each row in df_cnts) for the presence of any of the end event types in it. Since we have the number of each activity in the process model, for several end events, at least two columns representing the end event must have a value more than zero (or one colomn, which represents end event type must have a value more than two)."
   ]
  },
  {
   "cell_type": "code",
   "execution_count": 229,
   "id": "485da472",
   "metadata": {},
   "outputs": [
    {
     "name": "stdout",
     "output_type": "stream",
     "text": [
      "Amount of models with multiple end events:  51062\n",
      "Relative anouunt of models with multiple end event:  61%\n",
      "List of model IDs with multiple end event:\n"
     ]
    },
    {
     "data": {
      "text/html": [
       "<div>\n",
       "<style scoped>\n",
       "    .dataframe tbody tr th:only-of-type {\n",
       "        vertical-align: middle;\n",
       "    }\n",
       "\n",
       "    .dataframe tbody tr th {\n",
       "        vertical-align: top;\n",
       "    }\n",
       "\n",
       "    .dataframe thead th {\n",
       "        text-align: right;\n",
       "    }\n",
       "</style>\n",
       "<table border=\"1\" class=\"dataframe\">\n",
       "  <thead>\n",
       "    <tr style=\"text-align: right;\">\n",
       "      <th></th>\n",
       "      <th>model_id</th>\n",
       "    </tr>\n",
       "  </thead>\n",
       "  <tbody>\n",
       "    <tr>\n",
       "      <th>0</th>\n",
       "      <td>0a1fb922e8f24db8ad264b70160a4101</td>\n",
       "    </tr>\n",
       "    <tr>\n",
       "      <th>1</th>\n",
       "      <td>0a20539818604b53bf8bbf9a7ca6d9fb</td>\n",
       "    </tr>\n",
       "    <tr>\n",
       "      <th>2</th>\n",
       "      <td>0a209450944141a79a5e7b190e7f2f84</td>\n",
       "    </tr>\n",
       "    <tr>\n",
       "      <th>3</th>\n",
       "      <td>0a20b8900b0749448b26a01e86b088eb</td>\n",
       "    </tr>\n",
       "    <tr>\n",
       "      <th>4</th>\n",
       "      <td>0a20d2d61d5648b9bb2d3b8f5ff17970</td>\n",
       "    </tr>\n",
       "    <tr>\n",
       "      <th>...</th>\n",
       "      <td>...</td>\n",
       "    </tr>\n",
       "    <tr>\n",
       "      <th>51057</th>\n",
       "      <td>ffa4673ef9c049589c719e4e22c31212</td>\n",
       "    </tr>\n",
       "    <tr>\n",
       "      <th>51058</th>\n",
       "      <td>ffa4af6ba3f4445d9e0bc6b3f5615dbe</td>\n",
       "    </tr>\n",
       "    <tr>\n",
       "      <th>51059</th>\n",
       "      <td>ffa4e3ab6bbe4948a1340965b66ac9a5</td>\n",
       "    </tr>\n",
       "    <tr>\n",
       "      <th>51060</th>\n",
       "      <td>ffa54d59d7694ed2a8043e4cfed4be36</td>\n",
       "    </tr>\n",
       "    <tr>\n",
       "      <th>51061</th>\n",
       "      <td>ffa569f31b0546fc9cfc19b2a0b0a203</td>\n",
       "    </tr>\n",
       "  </tbody>\n",
       "</table>\n",
       "<p>51062 rows × 1 columns</p>\n",
       "</div>"
      ],
      "text/plain": [
       "                               model_id\n",
       "0      0a1fb922e8f24db8ad264b70160a4101\n",
       "1      0a20539818604b53bf8bbf9a7ca6d9fb\n",
       "2      0a209450944141a79a5e7b190e7f2f84\n",
       "3      0a20b8900b0749448b26a01e86b088eb\n",
       "4      0a20d2d61d5648b9bb2d3b8f5ff17970\n",
       "...                                 ...\n",
       "51057  ffa4673ef9c049589c719e4e22c31212\n",
       "51058  ffa4af6ba3f4445d9e0bc6b3f5615dbe\n",
       "51059  ffa4e3ab6bbe4948a1340965b66ac9a5\n",
       "51060  ffa54d59d7694ed2a8043e4cfed4be36\n",
       "51061  ffa569f31b0546fc9cfc19b2a0b0a203\n",
       "\n",
       "[51062 rows x 1 columns]"
      ]
     },
     "metadata": {},
     "output_type": "display_data"
    }
   ],
   "source": [
    "# create a boolean mask to filter the rows where the sum of events is greater than 1\n",
    "mask_multiEnd = event_sum_end > 1\n",
    "\n",
    "# count the number of rows that meet the mask condition\n",
    "count_multiEnd = mask_multiEnd.sum()\n",
    "multiEnd = df_cnts[mask_multiEnd]\n",
    "\n",
    "# relative amount of the process models with several end events\n",
    "pct_multiEnd = round(multiEnd.shape[0] / df_cnts.shape[0], 2)\n",
    "\n",
    "print(\"Amount of models with multiple end events: \",count_multiEnd)\n",
    "print(\"Relative anouunt of models with multiple end event: \", \"{:.0%}\".format(pct_multiEnd))\n",
    "print(\"List of model IDs with multiple end event:\")\n",
    "multiEnd = multiEnd.reset_index()\n",
    "display(pd.DataFrame(multiEnd[\"model_id\"]))"
   ]
  },
  {
   "cell_type": "code",
   "execution_count": 230,
   "id": "867ff135",
   "metadata": {},
   "outputs": [],
   "source": [
    "#for further visualisation\n",
    "\n",
    "#add to the dataframe for further visualisation\n",
    "\n",
    "#fill dataframe with above calculated values\n",
    "visual_df = pd.DataFrame(columns=['type','category', 'pct'])\n",
    "newRow = {\"type\": \"start\",\"category\": \"No start event\", \"pct\": pct_noStart}\n",
    "visual_df.loc[len(visual_df)] = newRow\n",
    "\n",
    "newRow = {\"type\": \"start\",\"category\": \"Several start events\", \"pct\": pct_startMulti}\n",
    "visual_df.loc[len(visual_df)] = newRow\n",
    "\n",
    "newRow = {\"type\": \"end\",\"category\": \"No end event\", \"pct\": pct_noEnd}\n",
    "visual_df.loc[len(visual_df)] = newRow\n",
    "\n",
    "newRow = {\"type\": \"end\",\"category\": \"Several end events\", \"pct\": pct_multiEnd}\n",
    "visual_df.loc[len(visual_df)] = newRow\n",
    "\n",
    "#calculate the % of models with one start event \n",
    "mask_startOne = event_sum == 1\n",
    "startOne = df_cnts[mask_startOne]\n",
    "pct_startOne = round(startOne.shape[0] / df_cnts.shape[0], 2)\n",
    "newRow = {\"type\": \"start\",\"category\": \"One start events\", \"pct\": pct_startOne}\n",
    "visual_df.loc[len(visual_df)] = newRow\n",
    "\n",
    "#calculate the % of models with one end event \n",
    "mask_oneEnd = event_sum_end == 1\n",
    "oneEnd = df_cnts[mask_oneEnd]\n",
    "pct_endOne = round(oneEnd.shape[0] / df_cnts.shape[0], 2)\n",
    "newRow = {\"type\": \"end\",\"category\": \"One end event\", \"pct\": pct_endOne}\n",
    "visual_df.loc[len(visual_df)] = newRow\n",
    "\n"
   ]
  },
  {
   "cell_type": "markdown",
   "id": "bad5e6bc",
   "metadata": {},
   "source": [
    "# With no start event, but with one or several tasks that can be considered to be the first activity in the process model"
   ]
  },
  {
   "cell_type": "code",
   "execution_count": 153,
   "id": "fc18e4e0",
   "metadata": {},
   "outputs": [],
   "source": [
    "# filtered dataframe,which consists only of BPMMs, which does not have a start event \n",
    "df_noStart = df.loc[noStart[\"model_id\"]]\n"
   ]
  },
  {
   "cell_type": "markdown",
   "id": "471f8924",
   "metadata": {},
   "source": [
    "To find models, where the task can be considered as a start activity, the algorithm is following:\n",
    "Task can be considered as start activity only if it does not have any incoming flow. To check that we perform the next steps\n",
    "1. For each model we iterate through each model element to collect ougoing IDs of SequenceFlow.  \n",
    "2. We iterate again thhrough the Task and check if the task ID in outgoing_ids set. If yes, than there is a sequence flow pointing on that, than task is in the middle of the process. If task ID id not in the outgoing_id, then nothing is pointing on that and it is a start task\n",
    "3. If models with a task/tasks as a start activity are found we add then to a dataframe to calculate the amount and relative amount of such models"
   ]
  },
  {
   "cell_type": "code",
   "execution_count": 184,
   "id": "b7be1551",
   "metadata": {},
   "outputs": [
    {
     "name": "stdout",
     "output_type": "stream",
     "text": [
      "Relative amount of models, which have one or multiple tasks as a start activity: 5%\n",
      "Amount of models, which have one or multiple tasks as a start activity: 4254\n"
     ]
    }
   ],
   "source": [
    "task_asStart_df = pd.DataFrame(columns=[\"Model ID\"])\n",
    "\n",
    "for model_id, group1 in df_noStart.groupby(level=0):\n",
    "    outgoing_ids = set()\n",
    "    for element_id, group2 in group1.groupby(level=1):\n",
    "        # check if the category is \"Sequence flow\"\n",
    "        if group2[\"category\"].item() == \"SequenceFlow\":\n",
    "            # extend the set with the outgoing ids for sequence flow elements\n",
    "            outgoing_ids.update(group2[\"outgoing\"].explode().tolist())\n",
    "    for element_id, group2 in group1.groupby(level=1):\n",
    "        if group2[\"category\"].item() == \"Task\":\n",
    "            if element_id not in outgoing_ids:\n",
    "                new_row = {\"Model ID\": model_id}\n",
    "                task_asStart_df = pd.concat([task_asStart_df, pd.DataFrame([new_row])], ignore_index=True)\n",
    "\n",
    "counts = task_asStart_df[\"Model ID\"].value_counts()\n",
    "df_counts = counts.reset_index()\n",
    "df_counts.columns = [\"Model ID\", \"Count\"]\n",
    "task_asStart_df = task_asStart_df.join(df_counts.set_index(\"Model ID\"), on=\"Model ID\")\n",
    "\n",
    "pct_task_asStart = round(new_df.shape[0] / df_cnts.shape[0], 2)\n",
    "pct_task_asStart = \"{:.0%}\".format(pct_task_asStart)\n",
    "print(\"Relative amount of models, which have one or multiple tasks as a start activity:\", pct_task_asStart)\n",
    "print(\"Amount of models, which have one or multiple tasks as a start activity:\", task_asStart_df.shape[0])\n"
   ]
  },
  {
   "cell_type": "markdown",
   "id": "a8a36b8e",
   "metadata": {},
   "source": [
    "We iterate through earch model and element ID, to check if outgoing from sequence flow is a task. If not, task if the first one"
   ]
  },
  {
   "cell_type": "code",
   "execution_count": 249,
   "id": "1a5a39b7",
   "metadata": {},
   "outputs": [
    {
     "name": "stdout",
     "output_type": "stream",
     "text": [
      "    type              category   pct\n",
      "0  start        No start event  0.03\n",
      "1  start  Several start events  0.16\n",
      "2    end          No end event  0.05\n",
      "3    end    Several end events  0.61\n",
      "4  start      One start events  0.81\n",
      "5    end         One end event  0.34\n"
     ]
    }
   ],
   "source": [
    "print(visual_df)"
   ]
  },
  {
   "cell_type": "code",
   "execution_count": 248,
   "id": "3c26dda4",
   "metadata": {},
   "outputs": [
    {
     "data": {
      "image/png": "[encoded data removed]",
      "text/plain": [
       "<Figure size 800x300 with 2 Axes>"
      ]
     },
     "metadata": {},
     "output_type": "display_data"
    }
   ],
   "source": [
    "# Create two subplots for each type\n",
    "fig, (ax1, ax2) = plt.subplots(ncols=2, figsize=(8, 3), sharey=True)\n",
    "plt.rcParams.update({'font.size': 8})\n",
    "\n",
    "start_df = visual_df[visual_df['type'] == 'start']\n",
    "ax1.bar(start_df['category'], start_df['pct'])\n",
    "plt.xticks(fontsize=8)\n",
    "ax1.set_ylabel('Percentage')\n",
    "ax1.yaxis.set_major_formatter(mtick.PercentFormatter(1.0))\n",
    "\n",
    "# Plot for 'end' type\n",
    "end_df = visual_df[visual_df['type'] == 'end']\n",
    "ax2.bar(end_df['category'], end_df['pct'])\n",
    "plt.xticks(fontsize=8)\n",
    "ax1.yaxis.set_major_formatter(mtick.PercentFormatter(1.0))\n",
    "\n",
    "\n",
    "# Show the plot\n",
    "plt.show()"
   ]
  },
  {
   "cell_type": "code",
   "execution_count": null,
   "id": "bc1699df",
   "metadata": {},
   "outputs": [],
   "source": []
  }
 ],
 "metadata": {
  "kernelspec": {
   "display_name": "Python 3 (ipykernel)",
   "language": "python",
   "name": "python3"
  },
  "language_info": {
   "codemirror_mode": {
    "name": "ipython",
    "version": 3
   },
   "file_extension": ".py",
   "mimetype": "text/x-python",
   "name": "python",
   "nbconvert_exporter": "python",
   "pygments_lexer": "ipython3",
   "version": "3.8.16"
  }
 },
 "nbformat": 4,
 "nbformat_minor": 5
}
